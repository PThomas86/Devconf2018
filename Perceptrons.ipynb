{
 "cells": [
  {
   "cell_type": "markdown",
   "metadata": {},
   "source": [
    "## Perceptron : The First Computational Neural Unit"
   ]
  },
  {
   "cell_type": "markdown",
   "metadata": {},
   "source": [
    "> We are going to train a few perceptrons to replicate the behavior of ***LOGIC GATES***"
   ]
  },
  {
   "cell_type": "markdown",
   "metadata": {},
   "source": [
    "![](http://www.csc.villanova.edu/~mdamian/Past/csc2400fa13/assign/Figs/4basicgates.gif)"
   ]
  },
  {
   "cell_type": "markdown",
   "metadata": {},
   "source": [
    "##### Instansiating our data\n",
    "\n",
    "We are instantiating our data based on the diagram.\n",
    "Our goal is to understand what exaxly are we inputting to get the necessary output.\n",
    ">Here, we are definitely creating a black box. Ironically, we will also understand why it is one and is it really one after learning how it works ?"
   ]
  },
  {
   "cell_type": "code",
   "execution_count": 34,
   "metadata": {},
   "outputs": [],
   "source": [
    "T = 1.0\n",
    "F = -1.0\n",
    "bias = 1.0\n",
    "training_data = [\n",
    "    [F,F,bias],\n",
    "    [F,T,bias],\n",
    "    [T,F,bias],\n",
    "    [T,T,bias]\n",
    "]\n",
    "AND = [\n",
    "    [F],\n",
    "    [F],\n",
    "    [T],\n",
    "    [T]\n",
    "]"
   ]
  },
  {
   "cell_type": "markdown",
   "metadata": {},
   "source": [
    "## Building the Perceptron\n",
    "\n",
    "Now we need to create the knobs and dials for the first Network we build.\n",
    "> The Input Data is the Data Flow.\n",
    "\n",
    "> Weights are the \"knobs\" and the Activaton Functions are the \"meters\".\n",
    "\n",
    "> Our goal is to set the knobs as well as possible so the meters produce the best results which we can measure by the amount of error we receive from the final output which we get as the data has propogated through the Network.\n"
   ]
  },
  {
   "cell_type": "code",
   "execution_count": 9,
   "metadata": {},
   "outputs": [],
   "source": [
    "import tensorflow as tf"
   ]
  },
  {
   "cell_type": "markdown",
   "metadata": {},
   "source": [
    "### Defining the Model"
   ]
  },
  {
   "cell_type": "markdown",
   "metadata": {},
   "source": [
    "##### Weights as the Dials"
   ]
  },
  {
   "cell_type": "code",
   "execution_count": 39,
   "metadata": {},
   "outputs": [],
   "source": [
    "w = tf.Variable(tf.random_normal([3,1]),tf.float32) # tf.Variable stores a Persistent Tensor and the value of the same van be changed by operations on it\n",
    "# exists outside the context of a sess.run call."
   ]
  },
  {
   "cell_type": "markdown",
   "metadata": {},
   "source": [
    "##### Activation Function as the Meters"
   ]
  },
  {
   "cell_type": "code",
   "execution_count": 40,
   "metadata": {},
   "outputs": [],
   "source": [
    "# If x is greater than 0 then 1 else -1\n",
    "def stepFunction(x): #Activation Function\n",
    "    is_greater = tf.greater(x, 0)\n",
    "    as_float = tf.to_float(is_greater)\n",
    "    doubled = tf.multiply(as_float, 2)\n",
    "    return tf.subtract(doubled, 1)"
   ]
  },
  {
   "cell_type": "markdown",
   "metadata": {},
   "source": [
    "##### Flow of the Data through the Model"
   ]
  },
  {
   "cell_type": "code",
   "execution_count": 41,
   "metadata": {},
   "outputs": [],
   "source": [
    "output = stepFunction(tf.matmul(training_data, w))\n",
    "error = tf.subtract(AND, output)\n",
    "mse = tf.reduce_mean(tf.square(error)) # reduce to the mean of each of the "
   ]
  },
  {
   "cell_type": "code",
   "execution_count": 42,
   "metadata": {},
   "outputs": [],
   "source": [
    "delta = tf.matmul(training_data, error, transpose_a=True)\n",
    "train = tf.assign(w, tf.add(w, delta))"
   ]
  },
  {
   "cell_type": "markdown",
   "metadata": {},
   "source": [
    "### Training the Model"
   ]
  },
  {
   "cell_type": "code",
   "execution_count": 46,
   "metadata": {},
   "outputs": [
    {
     "name": "stdout",
     "output_type": "stream",
     "text": [
      "EPOCH : \t 1\n",
      "WEIGHTS : \n",
      " [[ 0.28373724]\n",
      " [-0.01675393]\n",
      " [ 0.05098445]]\n",
      "MSE :  0.0 \n",
      "\n"
     ]
    }
   ],
   "source": [
    "err, target = 1, 0\n",
    "epoch, max_epochs = 0, 10\n",
    "\n",
    "with tf.Session() as sess:\n",
    "    sess.run(tf.initialize_all_variables())\n",
    "    while err > target and epoch < max_epochs:\n",
    "        epoch += 1\n",
    "        #wr = tf.reduce_mean(w)\n",
    "        err, _ = sess.run([mse, train])\n",
    "        print(\"EPOCH : \\t\",epoch)\n",
    "        print(\"WEIGHTS : \\n\", sess.run(w))\n",
    "        print('MSE : ', err, \"\\n\")\n",
    "\n",
    "    "
   ]
  },
  {
   "cell_type": "markdown",
   "metadata": {},
   "source": [
    "## Tests :\n",
    "* Train a Perceptron to learn OR.\n",
    "* Train a Perceptron to learn XOR."
   ]
  }
 ],
 "metadata": {
  "kernelspec": {
   "display_name": "Python 3",
   "language": "python",
   "name": "python3"
  },
  "language_info": {
   "codemirror_mode": {
    "name": "ipython",
    "version": 3
   },
   "file_extension": ".py",
   "mimetype": "text/x-python",
   "name": "python",
   "nbconvert_exporter": "python",
   "pygments_lexer": "ipython3",
   "version": "3.6.5"
  }
 },
 "nbformat": 4,
 "nbformat_minor": 2
}
